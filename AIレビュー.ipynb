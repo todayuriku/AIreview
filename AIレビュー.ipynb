{
  "nbformat": 4,
  "nbformat_minor": 0,
  "metadata": {
    "colab": {
      "provenance": [],
      "include_colab_link": true
    },
    "kernelspec": {
      "name": "python3",
      "display_name": "Python 3"
    },
    "language_info": {
      "name": "python"
    }
  },
  "cells": [
    {
      "cell_type": "markdown",
      "metadata": {
        "id": "view-in-github",
        "colab_type": "text"
      },
      "source": [
        "<a href=\"https://colab.research.google.com/github/todayuriku/AIreview/blob/main/AI%E3%83%AC%E3%83%93%E3%83%A5%E3%83%BC.ipynb\" target=\"_parent\"><img src=\"https://colab.research.google.com/assets/colab-badge.svg\" alt=\"Open In Colab\"/></a>"
      ]
    },
    {
      "cell_type": "code",
      "execution_count": null,
      "metadata": {
        "id": "mX8AkfGmTWNB"
      },
      "outputs": [],
      "source": [
        "# 必要なパッケージのインポート\n",
        "import pandas as pd\n",
        "import google.generativeai as genai\n",
        "from google.colab import drive, userdata\n",
        "import time\n",
        "import random\n",
        "from tqdm import tqdm\n",
        "from google.api_core import exceptions, retry"
      ]
    },
    {
      "cell_type": "code",
      "source": [
        "import numpy as np\n",
        "import pandas as pd"
      ],
      "metadata": {
        "id": "JW1NmHluCxmT"
      },
      "execution_count": null,
      "outputs": []
    },
    {
      "cell_type": "code",
      "source": [
        "import os\n",
        "from datetime import datetime"
      ],
      "metadata": {
        "id": "SJF3-9aCTdLV"
      },
      "execution_count": null,
      "outputs": []
    },
    {
      "cell_type": "code",
      "source": [
        "# Google Driveのマウントとパッケージのインストール\n",
        "drive.mount('/content/drive')\n",
        "!pip install google-generativeai"
      ],
      "metadata": {
        "id": "eXDGIafYTe5U",
        "colab": {
          "base_uri": "https://localhost:8080/"
        },
        "outputId": "558c0fe0-5beb-4e54-e2ec-e6d8f2fa23b8"
      },
      "execution_count": null,
      "outputs": [
        {
          "output_type": "stream",
          "name": "stdout",
          "text": [
            "Mounted at /content/drive\n",
            "Requirement already satisfied: google-generativeai in /usr/local/lib/python3.11/dist-packages (0.8.4)\n",
            "Requirement already satisfied: google-ai-generativelanguage==0.6.15 in /usr/local/lib/python3.11/dist-packages (from google-generativeai) (0.6.15)\n",
            "Requirement already satisfied: google-api-core in /usr/local/lib/python3.11/dist-packages (from google-generativeai) (2.19.2)\n",
            "Requirement already satisfied: google-api-python-client in /usr/local/lib/python3.11/dist-packages (from google-generativeai) (2.155.0)\n",
            "Requirement already satisfied: google-auth>=2.15.0 in /usr/local/lib/python3.11/dist-packages (from google-generativeai) (2.27.0)\n",
            "Requirement already satisfied: protobuf in /usr/local/lib/python3.11/dist-packages (from google-generativeai) (4.25.6)\n",
            "Requirement already satisfied: pydantic in /usr/local/lib/python3.11/dist-packages (from google-generativeai) (2.10.6)\n",
            "Requirement already satisfied: tqdm in /usr/local/lib/python3.11/dist-packages (from google-generativeai) (4.67.1)\n",
            "Requirement already satisfied: typing-extensions in /usr/local/lib/python3.11/dist-packages (from google-generativeai) (4.12.2)\n",
            "Requirement already satisfied: proto-plus<2.0.0dev,>=1.22.3 in /usr/local/lib/python3.11/dist-packages (from google-ai-generativelanguage==0.6.15->google-generativeai) (1.26.0)\n",
            "Requirement already satisfied: googleapis-common-protos<2.0.dev0,>=1.56.2 in /usr/local/lib/python3.11/dist-packages (from google-api-core->google-generativeai) (1.66.0)\n",
            "Requirement already satisfied: requests<3.0.0.dev0,>=2.18.0 in /usr/local/lib/python3.11/dist-packages (from google-api-core->google-generativeai) (2.32.3)\n",
            "Requirement already satisfied: cachetools<6.0,>=2.0.0 in /usr/local/lib/python3.11/dist-packages (from google-auth>=2.15.0->google-generativeai) (5.5.1)\n",
            "Requirement already satisfied: pyasn1-modules>=0.2.1 in /usr/local/lib/python3.11/dist-packages (from google-auth>=2.15.0->google-generativeai) (0.4.1)\n",
            "Requirement already satisfied: rsa<5,>=3.1.4 in /usr/local/lib/python3.11/dist-packages (from google-auth>=2.15.0->google-generativeai) (4.9)\n",
            "Requirement already satisfied: httplib2<1.dev0,>=0.19.0 in /usr/local/lib/python3.11/dist-packages (from google-api-python-client->google-generativeai) (0.22.0)\n",
            "Requirement already satisfied: google-auth-httplib2<1.0.0,>=0.2.0 in /usr/local/lib/python3.11/dist-packages (from google-api-python-client->google-generativeai) (0.2.0)\n",
            "Requirement already satisfied: uritemplate<5,>=3.0.1 in /usr/local/lib/python3.11/dist-packages (from google-api-python-client->google-generativeai) (4.1.1)\n",
            "Requirement already satisfied: annotated-types>=0.6.0 in /usr/local/lib/python3.11/dist-packages (from pydantic->google-generativeai) (0.7.0)\n",
            "Requirement already satisfied: pydantic-core==2.27.2 in /usr/local/lib/python3.11/dist-packages (from pydantic->google-generativeai) (2.27.2)\n",
            "Requirement already satisfied: grpcio<2.0dev,>=1.33.2 in /usr/local/lib/python3.11/dist-packages (from google-api-core[grpc]!=2.0.*,!=2.1.*,!=2.10.*,!=2.2.*,!=2.3.*,!=2.4.*,!=2.5.*,!=2.6.*,!=2.7.*,!=2.8.*,!=2.9.*,<3.0.0dev,>=1.34.1->google-ai-generativelanguage==0.6.15->google-generativeai) (1.70.0)\n",
            "Requirement already satisfied: grpcio-status<2.0.dev0,>=1.33.2 in /usr/local/lib/python3.11/dist-packages (from google-api-core[grpc]!=2.0.*,!=2.1.*,!=2.10.*,!=2.2.*,!=2.3.*,!=2.4.*,!=2.5.*,!=2.6.*,!=2.7.*,!=2.8.*,!=2.9.*,<3.0.0dev,>=1.34.1->google-ai-generativelanguage==0.6.15->google-generativeai) (1.62.3)\n",
            "Requirement already satisfied: pyparsing!=3.0.0,!=3.0.1,!=3.0.2,!=3.0.3,<4,>=2.4.2 in /usr/local/lib/python3.11/dist-packages (from httplib2<1.dev0,>=0.19.0->google-api-python-client->google-generativeai) (3.2.1)\n",
            "Requirement already satisfied: pyasn1<0.7.0,>=0.4.6 in /usr/local/lib/python3.11/dist-packages (from pyasn1-modules>=0.2.1->google-auth>=2.15.0->google-generativeai) (0.6.1)\n",
            "Requirement already satisfied: charset-normalizer<4,>=2 in /usr/local/lib/python3.11/dist-packages (from requests<3.0.0.dev0,>=2.18.0->google-api-core->google-generativeai) (3.4.1)\n",
            "Requirement already satisfied: idna<4,>=2.5 in /usr/local/lib/python3.11/dist-packages (from requests<3.0.0.dev0,>=2.18.0->google-api-core->google-generativeai) (3.10)\n",
            "Requirement already satisfied: urllib3<3,>=1.21.1 in /usr/local/lib/python3.11/dist-packages (from requests<3.0.0.dev0,>=2.18.0->google-api-core->google-generativeai) (2.3.0)\n",
            "Requirement already satisfied: certifi>=2017.4.17 in /usr/local/lib/python3.11/dist-packages (from requests<3.0.0.dev0,>=2.18.0->google-api-core->google-generativeai) (2024.12.14)\n"
          ]
        }
      ]
    },
    {
      "cell_type": "code",
      "source": [
        "import google.colab\n",
        "import google.generativeai as genai"
      ],
      "metadata": {
        "id": "5mqPvCoXsjeo"
      },
      "execution_count": null,
      "outputs": []
    },
    {
      "cell_type": "code",
      "source": [
        "# 行の表示数を設定（Noneを指定すると全ての行を表示）\n",
        "pd.set_option('display.max_rows', None)\n",
        "\n",
        "# 列の表示数を設定（Noneを指定すると全ての列を表示）\n",
        "pd.set_option('display.max_columns', None)"
      ],
      "metadata": {
        "id": "Ll1tK6MCC2ff"
      },
      "execution_count": null,
      "outputs": []
    },
    {
      "cell_type": "code",
      "source": [
        "# API鍵の設定\n",
        "GOOGLE_API_KEY = userdata.get('GOOGLE_API_KEY')\n",
        "genai.configure(api_key=GOOGLE_API_KEY)"
      ],
      "metadata": {
        "id": "eQMCPh09Te2w"
      },
      "execution_count": null,
      "outputs": []
    },
    {
      "cell_type": "code",
      "source": [
        "# 1. API Keyの確認\n",
        "try:\n",
        "    GOOGLE_API_KEY = userdata.get('GOOGLE_API_KEY')\n",
        "    if not GOOGLE_API_KEY:\n",
        "        raise ValueError(\"API Keyが設定されていません\")\n",
        "    genai.configure(api_key=GOOGLE_API_KEY)\n",
        "except Exception as e:\n",
        "    print(f\"API Keyの設定エラー: {e}\")"
      ],
      "metadata": {
        "id": "LvcaLWpRTeyV"
      },
      "execution_count": null,
      "outputs": []
    },
    {
      "cell_type": "code",
      "source": [
        "# Gemini Proモデルの初期化\n",
        "# gemini_pro = genai.GenerativeModel(\"gemini-1.5-flash\")\n",
        "gemini_pro = genai.GenerativeModel(\"gemini-1.0-pro\")\n",
        "\n",
        "# APIのテスト\n",
        "prompt = \"こんにちは\"\n",
        "response = gemini_pro.generate_content(prompt)\n",
        "print(response.text)"
      ],
      "metadata": {
        "id": "96VYhJd6Tesb",
        "colab": {
          "base_uri": "https://localhost:8080/",
          "height": 34
        },
        "outputId": "baafac28-9330-4b08-dbd6-4ecf22957393"
      },
      "execution_count": null,
      "outputs": [
        {
          "output_type": "stream",
          "name": "stdout",
          "text": [
            "こんにちは、ご質問は何ですか?\n"
          ]
        }
      ]
    },
    {
      "cell_type": "code",
      "source": [
        "from google.colab import drive\n",
        "drive.mount('/content/drive')"
      ],
      "metadata": {
        "colab": {
          "base_uri": "https://localhost:8080/"
        },
        "id": "ftegVVkjWMkM",
        "outputId": "f6b7e40b-a741-48da-9df7-6bf4ccf63a44"
      },
      "execution_count": null,
      "outputs": [
        {
          "output_type": "stream",
          "name": "stdout",
          "text": [
            "Drive already mounted at /content/drive; to attempt to forcibly remount, call drive.mount(\"/content/drive\", force_remount=True).\n"
          ]
        }
      ]
    },
    {
      "cell_type": "markdown",
      "source": [
        "# **dfにレビューデータを入れる**"
      ],
      "metadata": {
        "id": "-O03dtJZIL7X"
      }
    },
    {
      "cell_type": "code",
      "source": [
        "df = pd.read_csv(\"\")"
      ],
      "metadata": {
        "id": "wUpPRjBDIHYb"
      },
      "execution_count": null,
      "outputs": []
    },
    {
      "cell_type": "markdown",
      "source": [
        "# **有用・非有用判定**"
      ],
      "metadata": {
        "id": "np2wqSGLUZox"
      }
    },
    {
      "cell_type": "code",
      "source": [
        "@retry.Retry(predicate=retry.if_exception_type(exceptions.ResourceExhausted))\n",
        "def analyze_review(review_data):\n",
        "    \"\"\"レビューの有用性を分析する関数\n",
        "\n",
        "    Args:\n",
        "        review_data: レビュータイトルとテキストを含む辞書またはSeries\n",
        "    Returns:\n",
        "        str: 分析結果のテキスト\n",
        "    \"\"\"\n",
        "    review_text = f\"タイトル: {review_data['review_title']}\\n本文: {review_data['review']}\"\n",
        "    prompt = f\"\"\"\n",
        "    以下に入力する商品レビューのと本文が、\n",
        "    {review_text}\n",
        "    \"\"\"\n",
        "    try:\n",
        "        response = gemini_pro.generate_content(prompt)\n",
        "        return response.text.strip()\n",
        "    except Exception as e:\n",
        "        print(f\"Error analyzing review: {e}\")\n",
        "        return \"ERROR\"\n",
        "\n",
        "def analyze_reviews_batch(df, start_idx=0, batch_size=10):\n",
        "    \"\"\"指定された開始位置からバッチサイズ分のレビューを分析する\n",
        "\n",
        "    Args:\n",
        "        df: 分析対象のデータフレーム\n",
        "        start_idx: 開始インデックス\n",
        "        batch_size: バッチサイズ\n",
        "    Returns:\n",
        "        analyzed_df: 分析結果を含むデータフレーム\n",
        "        last_idx: 最後に処理したインデックス\n",
        "    \"\"\"\n",
        "    end_idx = min(start_idx + batch_size, len(df))\n",
        "    batch = df.iloc[start_idx:end_idx].copy()\n",
        "\n",
        "    results = []\n",
        "    for _, row in tqdm(batch.iterrows(), total=len(batch), desc=f\"Analyzing {start_idx} to {end_idx}\"):\n",
        "        result = analyze_review(row)\n",
        "        results.append(result)\n",
        "        time.sleep(3)  # API制限対策\n",
        "\n",
        "    batch['analysis_result'] = results\n",
        "    return batch, end_idx\n",
        "\n",
        "# 進捗を保存しながら分析を実行\n",
        "def run_analysis_with_checkpoints(input_df, checkpoint_path='review_analysis_checkpoint.csv',\n",
        "                                batch_size=10, start_from=0):\n",
        "    \"\"\"チェックポイントを保存しながらレビュー分析を実行する\n",
        "\n",
        "    Args:\n",
        "        input_df: 入力データフレーム\n",
        "        checkpoint_path: チェックポイントファイルのパス\n",
        "        batch_size: バッチサイズ\n",
        "        start_from: 開始インデックス\n",
        "    \"\"\"\n",
        "    all_results = []\n",
        "    current_idx = start_from\n",
        "\n",
        "    try:\n",
        "        while current_idx < len(input_df):\n",
        "            # バッチ処理の実行\n",
        "            analyzed_batch, last_idx = analyze_reviews_batch(\n",
        "                input_df,\n",
        "                start_idx=current_idx,\n",
        "                batch_size=batch_size\n",
        "            )\n",
        "\n",
        "            # 結果の保存\n",
        "            all_results.append(analyzed_batch)\n",
        "            current_results = pd.concat(all_results)\n",
        "            current_results.to_csv(checkpoint_path)\n",
        "\n",
        "            print(f\"Checkpoint saved at index {last_idx}\")\n",
        "            current_idx = last_idx\n",
        "\n",
        "            time.sleep(10)  # バッチ間の待機\n",
        "\n",
        "    except Exception as e:\n",
        "        print(f\"Error occurred at index {current_idx}: {e}\")\n",
        "        print(\"You can resume from this index later\")\n",
        "\n",
        "    finally:\n",
        "        # 最終結果の結合\n",
        "        final_results = pd.concat(all_results) if all_results else pd.DataFrame()\n",
        "        return final_results"
      ],
      "metadata": {
        "id": "5o71M6mmUrwG"
      },
      "execution_count": null,
      "outputs": []
    },
    {
      "cell_type": "code",
      "source": [],
      "metadata": {
        "id": "JAmaLb9GKiQ-"
      },
      "execution_count": null,
      "outputs": []
    },
    {
      "cell_type": "code",
      "source": [
        "results_df = run_analysis_with_checkpoints(\n",
        "    df,\n",
        "    checkpoint_path='review_analysis_checkpoint.csv',\n",
        "    batch_size=10\n",
        ")"
      ],
      "metadata": {
        "id": "2ceVwMNSU7vy"
      },
      "execution_count": null,
      "outputs": []
    },
    {
      "cell_type": "code",
      "source": [
        "results_df.head()"
      ],
      "metadata": {
        "id": "GbZ4pXZJU99O"
      },
      "execution_count": null,
      "outputs": []
    },
    {
      "cell_type": "code",
      "source": [
        "results_df[\"analysis_result\"].value_counts()"
      ],
      "metadata": {
        "id": "-ZOn8vCWsI0m"
      },
      "execution_count": null,
      "outputs": []
    }
  ]
}