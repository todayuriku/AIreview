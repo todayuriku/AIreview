{
  "nbformat": 4,
  "nbformat_minor": 0,
  "metadata": {
    "colab": {
      "provenance": [],
      "include_colab_link": true
    },
    "kernelspec": {
      "name": "python3",
      "display_name": "Python 3"
    },
    "language_info": {
      "name": "python"
    }
  },
  "cells": [
    {
      "cell_type": "markdown",
      "metadata": {
        "id": "view-in-github",
        "colab_type": "text"
      },
      "source": [
        "<a href=\"https://colab.research.google.com/github/todayuriku/AIreview/blob/main/AI%E3%83%AC%E3%83%93%E3%83%A5%E3%83%BC.ipynb\" target=\"_parent\"><img src=\"https://colab.research.google.com/assets/colab-badge.svg\" alt=\"Open In Colab\"/></a>"
      ]
    },
    {
      "cell_type": "code",
      "execution_count": null,
      "metadata": {
        "id": "mX8AkfGmTWNB"
      },
      "outputs": [],
      "source": [
        "# 必要なパッケージのインポート\n",
        "import pandas as pd\n",
        "import google.generativeai as genai\n",
        "from google.colab import drive, userdata\n",
        "import time\n",
        "import random\n",
        "from tqdm import tqdm\n",
        "from google.api_core import exceptions, retry"
      ]
    },
    {
      "cell_type": "code",
      "source": [
        "import numpy as np\n",
        "import pandas as pd"
      ],
      "metadata": {
        "id": "JW1NmHluCxmT"
      },
      "execution_count": null,
      "outputs": []
    },
    {
      "cell_type": "code",
      "source": [
        "import os\n",
        "from datetime import datetime"
      ],
      "metadata": {
        "id": "SJF3-9aCTdLV"
      },
      "execution_count": null,
      "outputs": []
    },
    {
      "cell_type": "code",
      "source": [
        "# Google Driveのマウントとパッケージのインストール\n",
        "drive.mount('/content/drive')\n",
        "!pip install google-generativeai"
      ],
      "metadata": {
        "id": "eXDGIafYTe5U"
      },
      "execution_count": null,
      "outputs": []
    },
    {
      "cell_type": "code",
      "source": [
        "import google.colab\n",
        "import google.generativeai as genai"
      ],
      "metadata": {
        "id": "5mqPvCoXsjeo"
      },
      "execution_count": null,
      "outputs": []
    },
    {
      "cell_type": "code",
      "source": [
        "# 行の表示数を設定（Noneを指定すると全ての行を表示）\n",
        "pd.set_option('display.max_rows', None)\n",
        "\n",
        "# 列の表示数を設定（Noneを指定すると全ての列を表示）\n",
        "pd.set_option('display.max_columns', None)"
      ],
      "metadata": {
        "id": "Ll1tK6MCC2ff"
      },
      "execution_count": null,
      "outputs": []
    },
    {
      "cell_type": "code",
      "source": [
        "# API鍵の設定\n",
        "GOOGLE_API_KEY = userdata.get('GOOGLE_API_KEY')\n",
        "genai.configure(api_key=GOOGLE_API_KEY)"
      ],
      "metadata": {
        "id": "eQMCPh09Te2w"
      },
      "execution_count": null,
      "outputs": []
    },
    {
      "cell_type": "code",
      "source": [
        "# 1. API Keyの確認\n",
        "try:\n",
        "    GOOGLE_API_KEY = userdata.get('GOOGLE_API_KEY')\n",
        "    if not GOOGLE_API_KEY:\n",
        "        raise ValueError(\"API Keyが設定されていません\")\n",
        "    genai.configure(api_key=GOOGLE_API_KEY)\n",
        "except Exception as e:\n",
        "    print(f\"API Keyの設定エラー: {e}\")"
      ],
      "metadata": {
        "id": "LvcaLWpRTeyV"
      },
      "execution_count": null,
      "outputs": []
    },
    {
      "cell_type": "code",
      "source": [
        "# Gemini Proモデルの初期化\n",
        "# gemini_pro = genai.GenerativeModel(\"gemini-1.5-flash\")\n",
        "gemini_pro = genai.GenerativeModel(\"gemini-1.0-pro\")\n",
        "\n",
        "# APIのテスト\n",
        "prompt = \"こんにちは\"\n",
        "response = gemini_pro.generate_content(prompt)\n",
        "print(response.text)"
      ],
      "metadata": {
        "id": "96VYhJd6Tesb"
      },
      "execution_count": null,
      "outputs": []
    },
    {
      "cell_type": "code",
      "source": [
        "from google.colab import drive\n",
        "drive.mount('/content/drive')"
      ],
      "metadata": {
        "id": "ftegVVkjWMkM"
      },
      "execution_count": null,
      "outputs": []
    },
    {
      "cell_type": "markdown",
      "source": [
        "# **dfにレビューデータを入れる**"
      ],
      "metadata": {
        "id": "-O03dtJZIL7X"
      }
    },
    {
      "cell_type": "code",
      "source": [
        "df = pd.read_csv(\"\")"
      ],
      "metadata": {
        "id": "wUpPRjBDIHYb"
      },
      "execution_count": null,
      "outputs": []
    },
    {
      "cell_type": "markdown",
      "source": [
        "# **有用・非有用判定**"
      ],
      "metadata": {
        "id": "np2wqSGLUZox"
      }
    },
    {
      "cell_type": "code",
      "source": [
        "@retry.Retry(predicate=retry.if_exception_type(exceptions.ResourceExhausted))\n",
        "def analyze_review(review_data):\n",
        "\n",
        "    review_text = f\"タイトル: {本文: {review_data['review']}\"\n",
        "    prompt = f\"\"\"\n",
        "    以下に入力する商品レビューの本文が、製品開発に有用であれば、True、非有用であれば、Falseと出力してください。ただし、以下の例文のようなただ褒めるだけのようなレビューは非有用と判断してください。(例)すごい。\n",
        "    {review_text}\n",
        "    \"\"\"\n",
        "    try:\n",
        "        response = gemini_pro.generate_content(prompt)\n",
        "        return response.text.strip()\n",
        "    except Exception as e:\n",
        "        print(f\"Error analyzing review: {e}\")\n",
        "        return \"ERROR\"\n",
        "\n",
        "def analyze_reviews_batch(df, start_idx=0, batch_size=10):\n",
        "    \"\"\"指定された開始位置からバッチサイズ分のレビューを分析する\n",
        "\n",
        "    Args:\n",
        "        df: 分析対象のデータフレーム\n",
        "        start_idx: 開始インデックス\n",
        "        batch_size: バッチサイズ\n",
        "    Returns:\n",
        "        analyzed_df: 分析結果を含むデータフレーム\n",
        "        last_idx: 最後に処理したインデックス\n",
        "    \"\"\"\n",
        "    end_idx = min(start_idx + batch_size, len(df))\n",
        "    batch = df.iloc[start_idx:end_idx].copy()\n",
        "\n",
        "    results = []\n",
        "    for _, row in tqdm(batch.iterrows(), total=len(batch), desc=f\"Analyzing {start_idx} to {end_idx}\"):\n",
        "        result = analyze_review(row)\n",
        "        results.append(result)\n",
        "        time.sleep(3)  # API制限対策\n",
        "\n",
        "    batch['analysis_result'] = results\n",
        "    return batch, end_idx\n",
        "\n",
        "# 進捗を保存しながら分析を実行\n",
        "def run_analysis_with_checkpoints(input_df, checkpoint_path='review_analysis_checkpoint.csv',\n",
        "                                batch_size=10, start_from=0):\n",
        "    \"\"\"チェックポイントを保存しながらレビュー分析を実行する\n",
        "\n",
        "    Args:\n",
        "        input_df: 入力データフレーム\n",
        "        checkpoint_path: チェックポイントファイルのパス\n",
        "        batch_size: バッチサイズ\n",
        "        start_from: 開始インデックス\n",
        "    \"\"\"\n",
        "    all_results = []\n",
        "    current_idx = start_from\n",
        "\n",
        "    try:\n",
        "        while current_idx < len(input_df):\n",
        "            # バッチ処理の実行\n",
        "            analyzed_batch, last_idx = analyze_reviews_batch(\n",
        "                input_df,\n",
        "                start_idx=current_idx,\n",
        "                batch_size=batch_size\n",
        "            )\n",
        "\n",
        "            # 結果の保存\n",
        "            all_results.append(analyzed_batch)\n",
        "            current_results = pd.concat(all_results)\n",
        "            current_results.to_csv(checkpoint_path)\n",
        "\n",
        "            print(f\"Checkpoint saved at index {last_idx}\")\n",
        "            current_idx = last_idx\n",
        "\n",
        "            time.sleep(10)  # バッチ間の待機\n",
        "\n",
        "    except Exception as e:\n",
        "        print(f\"Error occurred at index {current_idx}: {e}\")\n",
        "        print(\"You can resume from this index later\")\n",
        "\n",
        "    finally:\n",
        "        # 最終結果の結合\n",
        "        final_results = pd.concat(all_results) if all_results else pd.DataFrame()\n",
        "        return final_results"
      ],
      "metadata": {
        "id": "5o71M6mmUrwG"
      },
      "execution_count": null,
      "outputs": []
    },
    {
      "cell_type": "code",
      "source": [],
      "metadata": {
        "id": "JAmaLb9GKiQ-"
      },
      "execution_count": null,
      "outputs": []
    },
    {
      "cell_type": "code",
      "source": [
        "results_df = run_analysis_with_checkpoints(\n",
        "    df,\n",
        "    checkpoint_path='review_analysis_checkpoint.csv',\n",
        "    batch_size=10\n",
        ")"
      ],
      "metadata": {
        "id": "2ceVwMNSU7vy"
      },
      "execution_count": null,
      "outputs": []
    },
    {
      "cell_type": "code",
      "source": [
        "results_df.head()"
      ],
      "metadata": {
        "id": "GbZ4pXZJU99O"
      },
      "execution_count": null,
      "outputs": []
    },
    {
      "cell_type": "code",
      "source": [
        "results_df[\"analysis_result\"].value_counts()"
      ],
      "metadata": {
        "id": "-ZOn8vCWsI0m"
      },
      "execution_count": null,
      "outputs": []
    }
  ]
}